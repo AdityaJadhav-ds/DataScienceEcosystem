{
 "cells": [
  {
   "cell_type": "markdown",
   "id": "b2bb1bcb-117a-4bf5-b496-abdee667d82f",
   "metadata": {},
   "source": [
    "# Data Science Tools and Ecosystem\n"
   ]
  },
  {
   "cell_type": "markdown",
   "id": "bb312797-8161-482a-9a37-47b9b15cdd7c",
   "metadata": {},
   "source": [
    "In this notebook, Data Science Tools and Ecosystem are summarized.\n"
   ]
  },
  {
   "cell_type": "markdown",
   "id": "b2b713fe-444f-4160-8350-13d0dea36ef8",
   "metadata": {},
   "source": [
    "Some of the popular languages that Data Scientists use are:\n",
    "1. Python\n",
    "2. R\n",
    "3. SQL\n",
    "4. Julia\n",
    "5. Scala\n",
    "6. Java\n",
    "7. JavaScript\n",
    "8. C++\n",
    "9. Ruby\n",
    "10. Go\n"
   ]
  },
  {
   "cell_type": "markdown",
   "id": "f0dd115a-2cdd-4553-b59e-0e2a47813c2f",
   "metadata": {},
   "source": [
    "Some of the commonly used libraries used by Data Scientists include:\n",
    "1. Pandas\n",
    "2. NumPy\n",
    "3. Matplotlib\n",
    "4. Seaborn\n",
    "5. Scikit-learn\n",
    "6. Keras\n",
    "7. TensorFlow\n",
    "8. PyTorch\n",
    "9. ggplot2\n",
    "10. Apache Spark\n",
    "11. BigDL\n"
   ]
  },
  {
   "cell_type": "markdown",
   "id": "5fd76e2d-c7a3-4a7f-8211-7290df539231",
   "metadata": {},
   "source": [
    "| Data Science Tools |\n",
    "|-------------------|\n",
    "| Jupyter Notebook  |\n",
    "| RStudio           |\n",
    "| VS Code           |\n",
    "| Spyder            |\n",
    "| Google Colab      |\n",
    "| Apache Zeppelin   |\n"
   ]
  },
  {
   "cell_type": "markdown",
   "id": "a21462a8-db3b-4a5c-af3d-c05196a34657",
   "metadata": {},
   "source": [
    "### Below are a few examples of evaluating arithmetic expressions in Python.\n"
   ]
  },
  {
   "cell_type": "code",
   "execution_count": 4,
   "id": "9d821985-e152-4810-baba-801499e8925b",
   "metadata": {},
   "outputs": [
    {
     "data": {
      "text/plain": [
       "17"
      ]
     },
     "execution_count": 4,
     "metadata": {},
     "output_type": "execute_result"
    }
   ],
   "source": [
    "# This is a simple arithmetic expression to multiply then add integers\n",
    "(3*4)+5\n"
   ]
  },
  {
   "cell_type": "code",
   "execution_count": 5,
   "id": "b21962a2-7622-4f0d-9cc7-d38d1a4ac489",
   "metadata": {},
   "outputs": [
    {
     "data": {
      "text/plain": [
       "3.3333333333333335"
      ]
     },
     "execution_count": 5,
     "metadata": {},
     "output_type": "execute_result"
    }
   ],
   "source": [
    "# This will convert 200 minutes to hours by dividing by 60\n",
    "200/60\n"
   ]
  },
  {
   "cell_type": "markdown",
   "id": "30a1ccb2-9383-4a0f-b657-5b20060a3913",
   "metadata": {},
   "source": [
    "**Objectives:**\n",
    "- List popular languages for Data Science\n",
    "- List commonly used libraries in Data Science\n",
    "- Identify key Data Science tools and platforms\n",
    "- Perform simple arithmetic operations in Python\n",
    "- Convert units (minutes to hours) using Python\n"
   ]
  },
  {
   "cell_type": "markdown",
   "id": "827e4f00-d863-4e96-8976-a7c2bd1aee7f",
   "metadata": {},
   "source": [
    "## Author\n",
    "Aditya Jadhav\n"
   ]
  },
  {
   "cell_type": "code",
   "execution_count": null,
   "id": "9dc74a9a-5b70-4db0-aa95-79b602a30958",
   "metadata": {},
   "outputs": [],
   "source": []
  }
 ],
 "metadata": {
  "kernelspec": {
   "display_name": "Python 3 (ipykernel)",
   "language": "python",
   "name": "python3"
  },
  "language_info": {
   "codemirror_mode": {
    "name": "ipython",
    "version": 3
   },
   "file_extension": ".py",
   "mimetype": "text/x-python",
   "name": "python",
   "nbconvert_exporter": "python",
   "pygments_lexer": "ipython3",
   "version": "3.13.5"
  }
 },
 "nbformat": 4,
 "nbformat_minor": 5
}
